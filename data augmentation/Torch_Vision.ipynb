{
 "cells": [
  {
   "cell_type": "code",
   "execution_count": 27,
   "metadata": {},
   "outputs": [
    {
     "data": {
      "text/plain": [
       "<module 'ipykernel._version' from 'c:\\\\ProgramData\\\\anaconda3\\\\envs\\\\ia\\\\lib\\\\site-packages\\\\ipykernel\\\\_version.py'>"
      ]
     },
     "execution_count": 27,
     "metadata": {},
     "output_type": "execute_result"
    }
   ],
   "source": [
    "import ipykernel\n",
    "ipykernel._version"
   ]
  },
  {
   "cell_type": "code",
   "execution_count": 28,
   "metadata": {},
   "outputs": [],
   "source": [
    "import time\n",
    "from torch.utils.data import Dataset\n",
    "from torchvision import transforms\n",
    "from matplotlib import pyplot as plt\n",
    "from PIL import Image"
   ]
  },
  {
   "cell_type": "code",
   "execution_count": 29,
   "metadata": {},
   "outputs": [],
   "source": [
    "total_time = 0"
   ]
  },
  {
   "cell_type": "code",
   "execution_count": 30,
   "metadata": {},
   "outputs": [],
   "source": [
    "class TorchvisionDataset(Dataset):\n",
    "    def __init__(self, file_paths, labels, transform=None):\n",
    "        self.file_paths = file_paths\n",
    "        self.labels = labels\n",
    "        self.transform = transform\n",
    "    \n",
    "    def __len__(self):\n",
    "        return len(self.file_paths)\n",
    "    \n",
    "    def __getitem__(self, index):\n",
    "        label = self.labels[index]\n",
    "        file_path = self.file_paths[index]\n",
    "\n",
    "        image = Image.open(file_path)\n",
    "\n",
    "        start_t = time.time()\n",
    "        if self.transform:\n",
    "            image = self.transform(image)\n",
    "        total_time = (time.time() - start_t)\n",
    "\n",
    "        return image, label, total_time"
   ]
  },
  {
   "cell_type": "code",
   "execution_count": 31,
   "metadata": {},
   "outputs": [],
   "source": [
    "torchvision_transform = transforms.Compose([\n",
    "    transforms.Resize((1920,1080)),\n",
    "    transforms.RandomCrop(1920,1080),\n",
    "    transforms.RandomHorizontalFlip(),\n",
    "    transforms.ToTensor(),\n",
    "])"
   ]
  },
  {
   "cell_type": "code",
   "execution_count": 32,
   "metadata": {},
   "outputs": [],
   "source": [
    "torchvision_dataset = TorchvisionDataset(\n",
    "    file_paths = [\"C:/Users/yhd06/OneDrive/Desktop/iwaz/pothole_data/split_images_fin/AM_rainny_CI03_20211021_104445_604_3.jpg\"],\n",
    "    labels=[1],\n",
    "    transform=torchvision_transform,\n",
    ")"
   ]
  },
  {
   "cell_type": "code",
   "execution_count": 33,
   "metadata": {},
   "outputs": [
    {
     "name": "stdout",
     "output_type": "stream",
     "text": [
      "torchvision time/sample: 25.868911743164062 ms\n"
     ]
    }
   ],
   "source": [
    "for i in range(20):\n",
    "  sample, _, transform_time = torchvision_dataset[0]\n",
    "  total_time += transform_time\n",
    "\n",
    "print(\"torchvision time/sample: {} ms\".format(total_time*10))"
   ]
  },
  {
   "cell_type": "code",
   "execution_count": null,
   "metadata": {},
   "outputs": [],
   "source": [
    "plt.figure(figsize=(10, 10))\n",
    "plt.imshow(transforms.ToPILImage()(sample))\n",
    "plt.show()"
   ]
  }
 ],
 "metadata": {
  "kernelspec": {
   "display_name": "ia",
   "language": "python",
   "name": "python3"
  },
  "language_info": {
   "codemirror_mode": {
    "name": "ipython",
    "version": 3
   },
   "file_extension": ".py",
   "mimetype": "text/x-python",
   "name": "python",
   "nbconvert_exporter": "python",
   "pygments_lexer": "ipython3",
   "version": "3.10.0"
  }
 },
 "nbformat": 4,
 "nbformat_minor": 2
}
