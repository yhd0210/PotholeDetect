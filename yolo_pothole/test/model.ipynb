{
 "cells": [
  {
   "cell_type": "code",
   "execution_count": 1,
   "metadata": {},
   "outputs": [],
   "source": [
    "import numpy as np\n",
    "import torch as T\n",
    "import yaml\n",
    "from pathlib import Path\n",
    "import sys\n"
   ]
  },
  {
   "cell_type": "code",
   "execution_count": 2,
   "metadata": {},
   "outputs": [],
   "source": [
    "data_yaml = 'C:/Users/yhd06/OneDrive/Desktop/code/iwaz/yolo_pothole/data.yaml'"
   ]
  },
  {
   "cell_type": "code",
   "execution_count": 3,
   "metadata": {},
   "outputs": [
    {
     "name": "stdout",
     "output_type": "stream",
     "text": [
      "{'names': ['01_poteholl'], 'nc': 1, 'train': 'C:/Users/yhd06/OneDrive/Desktop/iwaz/pothole_data/output_potehole_dataset/train', 'val': 'C:/Users/yhd06/OneDrive/Desktop/iwaz/pothole_data/output_potehole_dataset/val'}\n"
     ]
    }
   ],
   "source": [
    "with open(data_yaml, 'r') as f:\n",
    "    file = yaml.load(f, Loader=yaml.FullLoader)\n",
    "    print(file)"
   ]
  },
  {
   "cell_type": "code",
   "execution_count": 4,
   "metadata": {},
   "outputs": [],
   "source": [
    "yolov5_path = 'C:/Users/yhd06/OneDrive/Desktop/code/iwaz/yolo_pothole/yolov5'\n",
    "sys.path.append(yolov5_path)"
   ]
  },
  {
   "cell_type": "code",
   "execution_count": 8,
   "metadata": {},
   "outputs": [],
   "source": [
    "from yolov5.train import train"
   ]
  },
  {
   "cell_type": "code",
   "execution_count": null,
   "metadata": {},
   "outputs": [],
   "source": [
    "# 학습 파라미터 설정\n",
    "img_size = 416\n",
    "batch_size = 16\n",
    "epochs = 100\n",
    "weights = \"yolov5l6.pt\"\n",
    "cache = True\n",
    "\n",
    "# 학습 설정\n",
    "train_settings = {\n",
    "    'img_size': img_size,\n",
    "    'batch_size': batch_size,\n",
    "    'epochs': epochs,\n",
    "    'data': data_yaml,\n",
    "    'weights': weights,\n",
    "    'cache': cache\n",
    "}\n",
    "\n",
    "train(train_settings)"
   ]
  }
 ],
 "metadata": {
  "kernelspec": {
   "display_name": "ia",
   "language": "python",
   "name": "python3"
  },
  "language_info": {
   "codemirror_mode": {
    "name": "ipython",
    "version": 3
   },
   "file_extension": ".py",
   "mimetype": "text/x-python",
   "name": "python",
   "nbconvert_exporter": "python",
   "pygments_lexer": "ipython3",
   "version": "3.10.14"
  }
 },
 "nbformat": 4,
 "nbformat_minor": 2
}
